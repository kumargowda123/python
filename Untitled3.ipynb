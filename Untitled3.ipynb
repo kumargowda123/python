{
 "cells": [
  {
   "cell_type": "markdown",
   "id": "95eea70c-69c8-4879-ab09-ddd16f214b9b",
   "metadata": {},
   "source": [
    "## 01. What is Python?\n",
    "\n",
    "Python is a high level programming language that is used in web applications, software development, data science, and machine learning. \n",
    "\n",
    "Developers use python because it is efficient and easy to learn and can run on many different platforms.\n",
    "\n",
    "Python software is free to download, integrates well with all types of systems and increases development speed.\n",
    "\n",
    "Benefits:\n",
    "\n",
    "a.Easily readable and understandable due to basic english syntax.\n",
    "\n",
    "b. Fewer lines of code required.\n",
    "\n",
    "c.Large library of usable codes.\n",
    "\n",
    "d.Quick supprt from other users.\n",
    "\n",
    "e.Available on all os."
   ]
  },
  {
   "cell_type": "markdown",
   "id": "daaf598c-a0b7-49a2-8a64-316821cdc5a8",
   "metadata": {},
   "source": [
    "## 02. What does the print() function do in Python?\n",
    "The print() functipon is useed to print the desired messages on the device screen.\n",
    "The print is always in a string format.\n",
    "If the print message is in other objects, it is first converted into a string before being printed.\n",
    "You can input single or multiple objects of any type.\n",
    "Before being printed the objects ges converted to a string. \n"
   ]
  },
  {
   "cell_type": "markdown",
   "id": "84ab109f-ced3-4946-92cb-4ecdb8d5ad7d",
   "metadata": {},
   "source": [
    "## 03. What is the purpose of comments in python programming language?\n",
    "\n",
    "1.Comments in Python are used to explain a code.\n",
    "\n",
    "2.Makes the code more readable\n",
    "\n",
    "3.Used to prevent execution when testing\n",
    "\n",
    "A comment starts off with '#'. Using this one can create multiple single line comments.\n",
    "\n",
    "Ex: #This is a code for creating a directory.\n",
    "        #to retrive information of students\n",
    "        #studying in BBA\n",
    "\n",
    "Multiple commenst can also be specified using the \" symbol three time\n",
    "\n",
    "Ex: \"\"\"This is a code for creating a directory.\n",
    "        to retrive information of students\n",
    "        studying in BBA\"\"\""
   ]
  },
  {
   "cell_type": "code",
   "execution_count": 42,
   "id": "e4ede77d-35b6-4c95-b15c-37c0971d4426",
   "metadata": {},
   "outputs": [
    {
     "data": {
      "text/plain": [
       "('touple', 'code', 'List')"
      ]
     },
     "execution_count": 42,
     "metadata": {},
     "output_type": "execute_result"
    }
   ],
   "source": [
    "\"\"\" We are equal and unique at the same time.\n",
    "We must agree to disagree.\n",
    "Thats the meaning of life\"\"\"\n",
    "c= (\"touple\", \"code\", \"List\")\n",
    "c"
   ]
  },
  {
   "cell_type": "markdown",
   "id": "99a14f6f-7f05-47f9-a217-0b1126fe21f5",
   "metadata": {},
   "source": [
    "As you can see above \n",
    "(\"\"\") has been mentioned before and after the comment to neglect it from running, \n",
    "and python only reads the touple 'c' to print.\n",
    "\n",
    "This is an example of usage of comment in python to explain a code. "
   ]
  },
  {
   "cell_type": "markdown",
   "id": "df67664b-8783-48bd-bdc5-51280e4a25a7",
   "metadata": {},
   "source": [
    "## 04. Provide an example of a syntax error &amp; semantic error in Python and\n",
    "explain why it is an error ?\n",
    "\n",
    "##### Syntax Error \n",
    "    \n",
    "    Syntax error occurs when the code doesnt follow the rules of python language. It is similar to making gramatical errors in english.\n",
    "    for ex: print(\"Hello World\" is a syntax error since we havent closed the paranthesis. Python will detect and report the error as syntax error in print.\n",
    "    The solution for this is print(\"Hello World\"). As u can see we have closed the paranthesis for the function to apply.\n",
    "    Below is a representaion"
   ]
  },
  {
   "cell_type": "code",
   "execution_count": 27,
   "id": "957d69a5-6b47-44bc-ad27-eab565cde06d",
   "metadata": {},
   "outputs": [
    {
     "ename": "SyntaxError",
     "evalue": "incomplete input (3603657317.py, line 1)",
     "output_type": "error",
     "traceback": [
      "\u001b[1;36m  Cell \u001b[1;32mIn[27], line 1\u001b[1;36m\u001b[0m\n\u001b[1;33m    print(\"hi everyone\"\u001b[0m\n\u001b[1;37m                       ^\u001b[0m\n\u001b[1;31mSyntaxError\u001b[0m\u001b[1;31m:\u001b[0m incomplete input\n"
     ]
    }
   ],
   "source": [
    "print(\"hi everyone\""
   ]
  },
  {
   "cell_type": "markdown",
   "id": "3a02c8c6-29e8-429a-8871-4230580cb8a4",
   "metadata": {},
   "source": [
    "The above fuction is not perfomed due to an syntax error mentioned as 'incomplete input' \n"
   ]
  },
  {
   "cell_type": "code",
   "execution_count": 38,
   "id": "315c0981-b9a7-44ff-8666-2f92c5e4ce04",
   "metadata": {},
   "outputs": [
    {
     "name": "stdout",
     "output_type": "stream",
     "text": [
      "Hello World\n"
     ]
    }
   ],
   "source": [
    "print(\"Hello World\")"
   ]
  },
  {
   "cell_type": "markdown",
   "id": "89d4d3d1-c75b-4b29-8568-f9993f2b9c84",
   "metadata": {},
   "source": [
    "Now we have an output since we have closed the paranthesis()."
   ]
  },
  {
   "cell_type": "markdown",
   "id": "fc9a14ad-e29b-4b0f-9c43-5399251b23fb",
   "metadata": {},
   "source": [
    "##### Symatic Error\n",
    "\n",
    "Symatic error is a logical error which occurs when there is a logical fallacy in the function tried to perform.\n",
    "\n",
    "Ex: logically we cannot add A+5, since A is string (variable) and 5 is an integer.\n",
    "This function is logically not possible and hence python will specify it as symatic error."
   ]
  },
  {
   "cell_type": "code",
   "execution_count": 61,
   "id": "995add20-f4e8-4aea-a2b5-dc6a659f601c",
   "metadata": {},
   "outputs": [
    {
     "ename": "TypeError",
     "evalue": "can only concatenate str (not \"int\") to str",
     "output_type": "error",
     "traceback": [
      "\u001b[1;31m---------------------------------------------------------------------------\u001b[0m",
      "\u001b[1;31mTypeError\u001b[0m                                 Traceback (most recent call last)",
      "Cell \u001b[1;32mIn[61], line 1\u001b[0m\n\u001b[1;32m----> 1\u001b[0m \u001b[38;5;28mprint\u001b[39m(\u001b[38;5;124m\"\u001b[39m\u001b[38;5;124mArnold\u001b[39m\u001b[38;5;124m\"\u001b[39m\u001b[38;5;241m+\u001b[39m\u001b[38;5;241m24\u001b[39m)\n",
      "\u001b[1;31mTypeError\u001b[0m: can only concatenate str (not \"int\") to str"
     ]
    }
   ],
   "source": [
    "print(\"Arnold\"+24)"
   ]
  },
  {
   "cell_type": "markdown",
   "id": "7efa44e9-9d7e-4934-bd83-defb6c8705c0",
   "metadata": {},
   "source": [
    "As u see above it shows an error that str and int cannot be concatenated. \n",
    "\n",
    "The solution is to either convert the int to a string of to simply perform strng-strng or int-int calculations.\n"
   ]
  },
  {
   "cell_type": "code",
   "execution_count": 64,
   "id": "dc1d2644-91a2-4f5a-aa71-1ba7565787c5",
   "metadata": {},
   "outputs": [
    {
     "name": "stdout",
     "output_type": "stream",
     "text": [
      "ArnoldPeter\n"
     ]
    }
   ],
   "source": [
    "print(\"Arnold\"+\"Peter\")"
   ]
  },
  {
   "cell_type": "code",
   "execution_count": 66,
   "id": "a435d401-0fac-4b1b-9a8d-1c208ae7e43a",
   "metadata": {},
   "outputs": [
    {
     "name": "stdout",
     "output_type": "stream",
     "text": [
      "Arnold24\n"
     ]
    }
   ],
   "source": [
    "print(\"Arnold\"+\"24\")"
   ]
  },
  {
   "cell_type": "markdown",
   "id": "e117e5ce-a673-46dd-baae-5a471a1a3135",
   "metadata": {},
   "source": [
    "Now we can see the function has been performed since we have only used two strgs(print1.) and converted the int to strng(print2.) before running the function."
   ]
  },
  {
   "cell_type": "markdown",
   "id": "2ee434f2-b790-4b2d-8cff-105d72c33723",
   "metadata": {},
   "source": [
    "## 05. What does case sensitivity mean in Python?\n",
    "\n",
    "Case sensitivity means that the upper and lowers case is treated differently in python.\n",
    "\n",
    "\n",
    "For ex:\n",
    "name= 'Arnold'\n",
    "\n",
    "Name= 'Peter'\n",
    "\n",
    "print(Name), will print the name \"Peter\". since we have mentioned capital 'N' during print with pertains to the name Peter as per the variable \"Name\".\n",
    "\n",
    "Like wise it would be vice-versa is we have mentioned small 'n', and the output would have been Arnold which pertains to the vbariale \"name\".\n"
   ]
  },
  {
   "cell_type": "markdown",
   "id": "2bdbb438-8705-49e5-9f96-f831c2f09132",
   "metadata": {},
   "source": [
    "## 06. Provide an example to illustrate how case sensitivity affects variable\n",
    "names in Python.\n",
    "Lets take the below example"
   ]
  },
  {
   "cell_type": "code",
   "execution_count": 77,
   "id": "132d4ce1-b4bc-41e2-8937-029435e85821",
   "metadata": {},
   "outputs": [
    {
     "name": "stdout",
     "output_type": "stream",
     "text": [
      "Ferrari\n"
     ]
    }
   ],
   "source": [
    "Car= 'Ferrari'\n",
    "CAR= 'Lamborgini'\n",
    "print(Car)"
   ]
  },
  {
   "cell_type": "markdown",
   "id": "34f2cf77-960f-4e5d-a4a1-4555a4b9936f",
   "metadata": {},
   "source": [
    "The above output is Ferrari since we have printed 'Car'."
   ]
  },
  {
   "cell_type": "code",
   "execution_count": 80,
   "id": "7e8b6c10-5d25-477b-955a-b27515c1377e",
   "metadata": {},
   "outputs": [
    {
     "name": "stdout",
     "output_type": "stream",
     "text": [
      "Lamborgini\n"
     ]
    }
   ],
   "source": [
    "print(CAR)"
   ]
  },
  {
   "cell_type": "markdown",
   "id": "00c118b3-518b-463c-89a8-d0390c67ffdf",
   "metadata": {},
   "source": [
    "Now we get Lamborgini since we have printed 'CAR'."
   ]
  },
  {
   "cell_type": "markdown",
   "id": "6aa77c49-510b-4995-9df7-e42dea8c2780",
   "metadata": {},
   "source": [
    "## 07. What is the recommended naming convention for variables in Python?\n",
    "1. **Variables and Functions**: Use lowercase with words separated by underscores & can include numbers in between (e.g., `my_function`, `myVariable()`).\r\n",
    "\r\n",
    "2. **Classes**: Use CamelCase with no underscores (e.g.,LunchBreakss`, `DaAnalyticsce`).\r\n",
    "\r\n",
    "3. **Constants**: Use uppercase with words separated by undersc ex: FULL_TIME, GAMEI`)."
   ]
  },
  {
   "cell_type": "markdown",
   "id": "92c509f2-3d09-4d17-8b06-9f263a4e0a59",
   "metadata": {},
   "source": [
    "## 08. What is the purpose of indentation in Python?\n",
    "In python indentation refers to the spaces at the beginning of a code line.\n",
    "Where in other languages the indentaion is for readabilit only. Hence indentation in python is very important.\n",
    "Python uses indentation ti indicate a blck of code."
   ]
  },
  {
   "cell_type": "code",
   "execution_count": 116,
   "id": "68de35cd-4d26-4134-a63c-e25e05de928f",
   "metadata": {},
   "outputs": [
    {
     "name": "stdin",
     "output_type": "stream",
     "text": [
      "how old are you 10\n"
     ]
    },
    {
     "name": "stdout",
     "output_type": "stream",
     "text": [
      "Child\n"
     ]
    }
   ],
   "source": [
    "Q = int(input(\"how old are you\"))\n",
    "\n",
    "if Q>18:\n",
    " print(\"Adult\")\n",
    "if Q<18:\n",
    " print(\"Child\")"
   ]
  },
  {
   "cell_type": "markdown",
   "id": "bc1baf52-e0d9-4eb1-8c40-d8a11f4179ca",
   "metadata": {},
   "source": [
    "As you can see above an indentation as been given before print func. \n",
    "\n",
    "If this is not been provided python would not read the function and would simply imply a indentation error."
   ]
  },
  {
   "cell_type": "markdown",
   "id": "ba243161-a430-46ea-a0e2-f418fb8ca06f",
   "metadata": {},
   "source": [
    "## 09. What is the current stable version of Python as of September 2024?\n",
    "\n",
    "The current stable version of python is 3.12. The oldest being 3.8 aqnd the upcoming 3.13"
   ]
  },
  {
   "cell_type": "markdown",
   "id": "546055ee-941e-446c-bca2-3455b2f02920",
   "metadata": {},
   "source": [
    "## 10. What are the basic data types in Python? Provide examples for each.\n",
    "### **1. Basic Data Types**\r\n",
    "- **Integer (`int`):** Whole numbers, e.g., 101`, 202`, 307,`\r\n",
    "- **Float (`float`):** Decimal numbers, e.g `3.4`, `4.6`, `-2.7`5`\r\n",
    "- **String (`str`):** Text, e.g., `\"Hello, world!\"`, `'data science'`\r\n",
    "- **Booleans (`bool`):** True or False values, e.g., `True`, `False`"
   ]
  },
  {
   "cell_type": "markdown",
   "id": "ba176418-4c66-4ea7-a40c-a1faf1251b3d",
   "metadata": {},
   "source": [
    "#                      ----------------------------------Thank You------------------------------"
   ]
  },
  {
   "cell_type": "code",
   "execution_count": null,
   "id": "779901ea-414d-458d-b648-3bae5d4f480f",
   "metadata": {},
   "outputs": [],
   "source": []
  }
 ],
 "metadata": {
  "kernelspec": {
   "display_name": "Python 3 (ipykernel)",
   "language": "python",
   "name": "python3"
  },
  "language_info": {
   "codemirror_mode": {
    "name": "ipython",
    "version": 3
   },
   "file_extension": ".py",
   "mimetype": "text/x-python",
   "name": "python",
   "nbconvert_exporter": "python",
   "pygments_lexer": "ipython3",
   "version": "3.12.4"
  }
 },
 "nbformat": 4,
 "nbformat_minor": 5
}
